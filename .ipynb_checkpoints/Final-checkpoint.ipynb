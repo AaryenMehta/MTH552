{
 "cells": [
  {
   "cell_type": "code",
   "execution_count": 1,
   "id": "fbaf34f4",
   "metadata": {
    "ExecuteTime": {
     "end_time": "2022-04-20T14:50:09.224526Z",
     "start_time": "2022-04-20T14:50:03.962244Z"
    }
   },
   "outputs": [],
   "source": [
    "import pandas as pd\n",
    "import numpy as np\n",
    "import matplotlib.pyplot as plt\n",
    "import seaborn as sns\n",
    "import datetime \n",
    "from dateutil.relativedelta import relativedelta\n",
    "\n",
    "%matplotlib inline "
   ]
  },
  {
   "cell_type": "code",
   "execution_count": 2,
   "id": "c03850d5",
   "metadata": {
    "ExecuteTime": {
     "end_time": "2022-04-20T14:50:50.179074Z",
     "start_time": "2022-04-20T14:50:09.230671Z"
    }
   },
   "outputs": [
    {
     "name": "stdout",
     "output_type": "stream",
     "text": [
      "<class 'pandas.core.frame.DataFrame'>\n",
      "RangeIndex: 5182659 entries, 0 to 5182658\n",
      "Data columns (total 8 columns):\n",
      " #   Column      Dtype         \n",
      "---  ------      -----         \n",
      " 0   Date        datetime64[ns]\n",
      " 1   Open        float64       \n",
      " 2   High        float64       \n",
      " 3   Low         float64       \n",
      " 4   Close       float64       \n",
      " 5   Adj Close   float64       \n",
      " 6   Volume      float64       \n",
      " 7   stock_name  object        \n",
      "dtypes: datetime64[ns](1), float64(6), object(1)\n",
      "memory usage: 316.3+ MB\n"
     ]
    }
   ],
   "source": [
    "raw_data = pd.read_csv('Data_set.csv', parse_dates=['Date'],index_col=False)\n",
    "raw_data.info()"
   ]
  },
  {
   "cell_type": "code",
   "execution_count": 3,
   "id": "7bfc7411",
   "metadata": {
    "ExecuteTime": {
     "end_time": "2022-04-20T14:50:50.410518Z",
     "start_time": "2022-04-20T14:50:50.185247Z"
    }
   },
   "outputs": [
    {
     "data": {
      "text/html": [
       "<div>\n",
       "<style scoped>\n",
       "    .dataframe tbody tr th:only-of-type {\n",
       "        vertical-align: middle;\n",
       "    }\n",
       "\n",
       "    .dataframe tbody tr th {\n",
       "        vertical-align: top;\n",
       "    }\n",
       "\n",
       "    .dataframe thead th {\n",
       "        text-align: right;\n",
       "    }\n",
       "</style>\n",
       "<table border=\"1\" class=\"dataframe\">\n",
       "  <thead>\n",
       "    <tr style=\"text-align: right;\">\n",
       "      <th></th>\n",
       "      <th>Date</th>\n",
       "      <th>Open</th>\n",
       "      <th>High</th>\n",
       "      <th>Low</th>\n",
       "      <th>Close</th>\n",
       "      <th>Adj Close</th>\n",
       "      <th>Volume</th>\n",
       "      <th>stock_name</th>\n",
       "    </tr>\n",
       "  </thead>\n",
       "  <tbody>\n",
       "    <tr>\n",
       "      <th>0</th>\n",
       "      <td>2012-01-03</td>\n",
       "      <td>36.459999</td>\n",
       "      <td>36.709999</td>\n",
       "      <td>35.910000</td>\n",
       "      <td>36.029999</td>\n",
       "      <td>28.122219</td>\n",
       "      <td>3021500.0</td>\n",
       "      <td>ADI</td>\n",
       "    </tr>\n",
       "    <tr>\n",
       "      <th>1</th>\n",
       "      <td>2012-01-04</td>\n",
       "      <td>36.009998</td>\n",
       "      <td>36.080002</td>\n",
       "      <td>35.650002</td>\n",
       "      <td>35.980000</td>\n",
       "      <td>28.083200</td>\n",
       "      <td>1428000.0</td>\n",
       "      <td>ADI</td>\n",
       "    </tr>\n",
       "    <tr>\n",
       "      <th>2</th>\n",
       "      <td>2012-01-05</td>\n",
       "      <td>35.730000</td>\n",
       "      <td>36.220001</td>\n",
       "      <td>35.730000</td>\n",
       "      <td>36.139999</td>\n",
       "      <td>28.208084</td>\n",
       "      <td>2124300.0</td>\n",
       "      <td>ADI</td>\n",
       "    </tr>\n",
       "    <tr>\n",
       "      <th>3</th>\n",
       "      <td>2012-01-06</td>\n",
       "      <td>36.110001</td>\n",
       "      <td>36.220001</td>\n",
       "      <td>35.779999</td>\n",
       "      <td>35.900002</td>\n",
       "      <td>28.020756</td>\n",
       "      <td>3533000.0</td>\n",
       "      <td>ADI</td>\n",
       "    </tr>\n",
       "    <tr>\n",
       "      <th>4</th>\n",
       "      <td>2012-01-09</td>\n",
       "      <td>35.910000</td>\n",
       "      <td>36.689999</td>\n",
       "      <td>35.910000</td>\n",
       "      <td>36.599998</td>\n",
       "      <td>28.567129</td>\n",
       "      <td>2593900.0</td>\n",
       "      <td>ADI</td>\n",
       "    </tr>\n",
       "  </tbody>\n",
       "</table>\n",
       "</div>"
      ],
      "text/plain": [
       "        Date       Open       High        Low      Close  Adj Close  \\\n",
       "0 2012-01-03  36.459999  36.709999  35.910000  36.029999  28.122219   \n",
       "1 2012-01-04  36.009998  36.080002  35.650002  35.980000  28.083200   \n",
       "2 2012-01-05  35.730000  36.220001  35.730000  36.139999  28.208084   \n",
       "3 2012-01-06  36.110001  36.220001  35.779999  35.900002  28.020756   \n",
       "4 2012-01-09  35.910000  36.689999  35.910000  36.599998  28.567129   \n",
       "\n",
       "      Volume stock_name  \n",
       "0  3021500.0        ADI  \n",
       "1  1428000.0        ADI  \n",
       "2  2124300.0        ADI  \n",
       "3  3533000.0        ADI  \n",
       "4  2593900.0        ADI  "
      ]
     },
     "execution_count": 3,
     "metadata": {},
     "output_type": "execute_result"
    }
   ],
   "source": [
    "raw_data.head()\n",
    "# column_names=list(raw_data.columns)\n",
    "# print(column_names)"
   ]
  },
  {
   "cell_type": "code",
   "execution_count": 4,
   "id": "7f042a70",
   "metadata": {
    "ExecuteTime": {
     "end_time": "2022-04-20T14:50:53.202851Z",
     "start_time": "2022-04-20T14:50:50.418992Z"
    }
   },
   "outputs": [
    {
     "name": "stdout",
     "output_type": "stream",
     "text": [
      "<class 'pandas.core.frame.DataFrame'>\n",
      "Int64Index: 5182659 entries, 0 to 5182658\n",
      "Data columns (total 5 columns):\n",
      " #   Column      Dtype         \n",
      "---  ------      -----         \n",
      " 0   stock_name  object        \n",
      " 1   Date        datetime64[ns]\n",
      " 2   year        int64         \n",
      " 3   Open        float64       \n",
      " 4   Close       float64       \n",
      "dtypes: datetime64[ns](1), float64(2), int64(1), object(1)\n",
      "memory usage: 237.2+ MB\n"
     ]
    }
   ],
   "source": [
    "df_2012_2017 = (\n",
    "    raw_data\n",
    "    .pipe(lambda x: x.assign(year=pd.to_datetime(x.Date).dt.year))\n",
    "    .query(\"year >= 2012\")\n",
    "    [['stock_name', 'Date', 'year', 'Open', 'Close']]\n",
    ")\n",
    "df_2012_2017.info()"
   ]
  },
  {
   "cell_type": "code",
   "execution_count": 43,
   "id": "e691d124",
   "metadata": {
    "ExecuteTime": {
     "end_time": "2022-04-20T15:05:48.901796Z",
     "start_time": "2022-04-20T15:05:46.998117Z"
    }
   },
   "outputs": [
    {
     "data": {
      "text/html": [
       "<div>\n",
       "<style scoped>\n",
       "    .dataframe tbody tr th:only-of-type {\n",
       "        vertical-align: middle;\n",
       "    }\n",
       "\n",
       "    .dataframe tbody tr th {\n",
       "        vertical-align: top;\n",
       "    }\n",
       "\n",
       "    .dataframe thead th {\n",
       "        text-align: right;\n",
       "    }\n",
       "</style>\n",
       "<table border=\"1\" class=\"dataframe\">\n",
       "  <thead>\n",
       "    <tr style=\"text-align: right;\">\n",
       "      <th></th>\n",
       "      <th>Date</th>\n",
       "    </tr>\n",
       "  </thead>\n",
       "  <tbody>\n",
       "    <tr>\n",
       "      <th>0</th>\n",
       "      <td>2012-01-03</td>\n",
       "    </tr>\n",
       "    <tr>\n",
       "      <th>1</th>\n",
       "      <td>2013-01-02</td>\n",
       "    </tr>\n",
       "    <tr>\n",
       "      <th>2</th>\n",
       "      <td>2014-01-02</td>\n",
       "    </tr>\n",
       "    <tr>\n",
       "      <th>3</th>\n",
       "      <td>2015-01-02</td>\n",
       "    </tr>\n",
       "    <tr>\n",
       "      <th>4</th>\n",
       "      <td>2016-01-04</td>\n",
       "    </tr>\n",
       "  </tbody>\n",
       "</table>\n",
       "</div>"
      ],
      "text/plain": [
       "        Date\n",
       "0 2012-01-03\n",
       "1 2013-01-02\n",
       "2 2014-01-02\n",
       "3 2015-01-02\n",
       "4 2016-01-04"
      ]
     },
     "execution_count": 43,
     "metadata": {},
     "output_type": "execute_result"
    }
   ],
   "source": [
    "first_date_list = [df_2012_2017.query(\"year == {}\".format(2012+i)).Date.min() for i in range(11)]\n",
    "last_date_list = [df_2012_2017.query(\"year == {}\".format(2012+i)).Date.max() for i in range(11)]\n",
    "first_date_df =pd.DataFrame({\"Date\": first_date_list}) \n",
    "last_date_df = pd.DataFrame({\"Date\": last_date_list})\n",
    "first_date_df.head()"
   ]
  },
  {
   "cell_type": "code",
   "execution_count": 6,
   "id": "f700435f",
   "metadata": {
    "ExecuteTime": {
     "end_time": "2022-04-20T14:50:55.503027Z",
     "start_time": "2022-04-20T14:50:54.421025Z"
    }
   },
   "outputs": [],
   "source": [
    "# filtering for the first day data in `df_2012_2017`\n",
    "first_date_2012_2017_df = (\n",
    "    df_2012_2017\n",
    "    .merge(first_date_df, on='Date', how='inner')\n",
    "    .pipe(lambda x: x.assign(year=pd.to_datetime(x.Date).dt.year))\n",
    "    .rename(columns={\"Open\": \"open_first_day\"})\n",
    "    .reset_index(drop=True)\n",
    "    [['stock_name', 'year', 'open_first_day']]\n",
    "    .pivot_table(values='open_first_day', columns='year', index='stock_name', aggfunc='sum')\n",
    "    .rename_axis(None, axis=1)\n",
    "    .reset_index()\n",
    ")\n",
    "\n",
    "# filtering last day data in `df_2012_2017` \n",
    "last_date_2012_2017_df = (\n",
    "    df_2012_2017\n",
    "    .merge(last_date_df, on='Date', how='inner')\n",
    "    .pipe(lambda x: x.assign(year=pd.to_datetime(x.Date).dt.year))\n",
    "    .rename(columns={\"Close\": \"close_last_day\"})\n",
    "    .reset_index(drop=True)\n",
    "    [['stock_name', 'year', 'close_last_day']]\n",
    "    .pivot_table(values='close_last_day', columns='year', index='stock_name', aggfunc='sum')\n",
    "    .rename_axis(None, axis=1)\n",
    "    .reset_index()\n",
    ")\n"
   ]
  },
  {
   "cell_type": "code",
   "execution_count": 42,
   "id": "3c6cc381",
   "metadata": {
    "ExecuteTime": {
     "end_time": "2022-04-20T15:02:14.338853Z",
     "start_time": "2022-04-20T15:02:14.309303Z"
    }
   },
   "outputs": [
    {
     "data": {
      "text/html": [
       "<div>\n",
       "<style scoped>\n",
       "    .dataframe tbody tr th:only-of-type {\n",
       "        vertical-align: middle;\n",
       "    }\n",
       "\n",
       "    .dataframe tbody tr th {\n",
       "        vertical-align: top;\n",
       "    }\n",
       "\n",
       "    .dataframe thead th {\n",
       "        text-align: right;\n",
       "    }\n",
       "</style>\n",
       "<table border=\"1\" class=\"dataframe\">\n",
       "  <thead>\n",
       "    <tr style=\"text-align: right;\">\n",
       "      <th></th>\n",
       "      <th>stock_name</th>\n",
       "      <th>2012</th>\n",
       "      <th>2013</th>\n",
       "      <th>2014</th>\n",
       "      <th>2015</th>\n",
       "      <th>2016</th>\n",
       "      <th>2017</th>\n",
       "      <th>2018</th>\n",
       "      <th>2019</th>\n",
       "      <th>2020</th>\n",
       "      <th>2021</th>\n",
       "      <th>2022</th>\n",
       "    </tr>\n",
       "  </thead>\n",
       "  <tbody>\n",
       "    <tr>\n",
       "      <th>0</th>\n",
       "      <td>A</td>\n",
       "      <td>29.284693</td>\n",
       "      <td>40.90844</td>\n",
       "      <td>40.939999</td>\n",
       "      <td>41.810001</td>\n",
       "      <td>45.560001</td>\n",
       "      <td>66.970001</td>\n",
       "      <td>67.459999</td>\n",
       "      <td>85.309998</td>\n",
       "      <td>118.489998</td>\n",
       "      <td>159.649994</td>\n",
       "      <td>127.150002</td>\n",
       "    </tr>\n",
       "    <tr>\n",
       "      <th>1</th>\n",
       "      <td>AA</td>\n",
       "      <td>20.858040</td>\n",
       "      <td>25.54389</td>\n",
       "      <td>37.943371</td>\n",
       "      <td>23.717609</td>\n",
       "      <td>28.080000</td>\n",
       "      <td>53.869999</td>\n",
       "      <td>26.580000</td>\n",
       "      <td>21.510000</td>\n",
       "      <td>23.049999</td>\n",
       "      <td>59.580002</td>\n",
       "      <td>83.779999</td>\n",
       "    </tr>\n",
       "    <tr>\n",
       "      <th>2</th>\n",
       "      <td>AAL</td>\n",
       "      <td>13.500000</td>\n",
       "      <td>25.25000</td>\n",
       "      <td>53.630001</td>\n",
       "      <td>42.349998</td>\n",
       "      <td>46.689999</td>\n",
       "      <td>52.029999</td>\n",
       "      <td>32.110001</td>\n",
       "      <td>28.680000</td>\n",
       "      <td>15.770000</td>\n",
       "      <td>17.959999</td>\n",
       "      <td>19.690001</td>\n",
       "    </tr>\n",
       "    <tr>\n",
       "      <th>3</th>\n",
       "      <td>AAN</td>\n",
       "      <td>NaN</td>\n",
       "      <td>NaN</td>\n",
       "      <td>NaN</td>\n",
       "      <td>NaN</td>\n",
       "      <td>NaN</td>\n",
       "      <td>NaN</td>\n",
       "      <td>NaN</td>\n",
       "      <td>NaN</td>\n",
       "      <td>18.959999</td>\n",
       "      <td>24.650000</td>\n",
       "      <td>22.160000</td>\n",
       "    </tr>\n",
       "    <tr>\n",
       "      <th>4</th>\n",
       "      <td>AAOI</td>\n",
       "      <td>NaN</td>\n",
       "      <td>15.01000</td>\n",
       "      <td>11.220000</td>\n",
       "      <td>17.160000</td>\n",
       "      <td>23.440001</td>\n",
       "      <td>37.820000</td>\n",
       "      <td>15.430000</td>\n",
       "      <td>11.880000</td>\n",
       "      <td>8.510000</td>\n",
       "      <td>5.140000</td>\n",
       "      <td>2.990000</td>\n",
       "    </tr>\n",
       "  </tbody>\n",
       "</table>\n",
       "</div>"
      ],
      "text/plain": [
       "  stock_name       2012      2013       2014       2015       2016       2017  \\\n",
       "0          A  29.284693  40.90844  40.939999  41.810001  45.560001  66.970001   \n",
       "1         AA  20.858040  25.54389  37.943371  23.717609  28.080000  53.869999   \n",
       "2        AAL  13.500000  25.25000  53.630001  42.349998  46.689999  52.029999   \n",
       "3        AAN        NaN       NaN        NaN        NaN        NaN        NaN   \n",
       "4       AAOI        NaN  15.01000  11.220000  17.160000  23.440001  37.820000   \n",
       "\n",
       "        2018       2019        2020        2021        2022  \n",
       "0  67.459999  85.309998  118.489998  159.649994  127.150002  \n",
       "1  26.580000  21.510000   23.049999   59.580002   83.779999  \n",
       "2  32.110001  28.680000   15.770000   17.959999   19.690001  \n",
       "3        NaN        NaN   18.959999   24.650000   22.160000  \n",
       "4  15.430000  11.880000    8.510000    5.140000    2.990000  "
      ]
     },
     "execution_count": 42,
     "metadata": {},
     "output_type": "execute_result"
    }
   ],
   "source": [
    "last_date_2012_2017_df.head()"
   ]
  },
  {
   "cell_type": "code",
   "execution_count": 8,
   "id": "53087614",
   "metadata": {
    "ExecuteTime": {
     "end_time": "2022-04-20T14:50:55.683436Z",
     "start_time": "2022-04-20T14:50:55.518204Z"
    }
   },
   "outputs": [],
   "source": [
    "agg_first_date_df = (\n",
    "    first_date_2012_2017_df\n",
    "    .melt(id_vars='stock_name', value_vars=[ 2012+i for i in range(11)])\n",
    "    .rename(columns={\"variable\": \"year\", \"value\": \"open_first_day\"})\n",
    ")\n",
    "\n",
    "agg_last_date_df = (\n",
    "    last_date_2012_2017_df\n",
    "    .melt(id_vars='stock_name', value_vars=[ 2012+i for i in range(11)])\n",
    "    .rename(columns={\"variable\": \"year\", \"value\": \"close_last_day\"})\n",
    ")"
   ]
  },
  {
   "cell_type": "code",
   "execution_count": 9,
   "id": "62edf744",
   "metadata": {
    "ExecuteTime": {
     "end_time": "2022-04-20T14:50:55.910297Z",
     "start_time": "2022-04-20T14:50:55.685386Z"
    }
   },
   "outputs": [
    {
     "data": {
      "text/html": [
       "<div>\n",
       "<style scoped>\n",
       "    .dataframe tbody tr th:only-of-type {\n",
       "        vertical-align: middle;\n",
       "    }\n",
       "\n",
       "    .dataframe tbody tr th {\n",
       "        vertical-align: top;\n",
       "    }\n",
       "\n",
       "    .dataframe thead th {\n",
       "        text-align: right;\n",
       "    }\n",
       "</style>\n",
       "<table border=\"1\" class=\"dataframe\">\n",
       "  <thead>\n",
       "    <tr style=\"text-align: right;\">\n",
       "      <th></th>\n",
       "      <th>stock_name</th>\n",
       "      <th>year</th>\n",
       "      <th>close_last_day</th>\n",
       "    </tr>\n",
       "  </thead>\n",
       "  <tbody>\n",
       "    <tr>\n",
       "      <th>0</th>\n",
       "      <td>A</td>\n",
       "      <td>2012</td>\n",
       "      <td>29.284693</td>\n",
       "    </tr>\n",
       "    <tr>\n",
       "      <th>1</th>\n",
       "      <td>AA</td>\n",
       "      <td>2012</td>\n",
       "      <td>20.858040</td>\n",
       "    </tr>\n",
       "    <tr>\n",
       "      <th>2</th>\n",
       "      <td>AAL</td>\n",
       "      <td>2012</td>\n",
       "      <td>13.500000</td>\n",
       "    </tr>\n",
       "    <tr>\n",
       "      <th>3</th>\n",
       "      <td>AAN</td>\n",
       "      <td>2012</td>\n",
       "      <td>NaN</td>\n",
       "    </tr>\n",
       "    <tr>\n",
       "      <th>4</th>\n",
       "      <td>AAOI</td>\n",
       "      <td>2012</td>\n",
       "      <td>NaN</td>\n",
       "    </tr>\n",
       "  </tbody>\n",
       "</table>\n",
       "</div>"
      ],
      "text/plain": [
       "  stock_name  year  close_last_day\n",
       "0          A  2012       29.284693\n",
       "1         AA  2012       20.858040\n",
       "2        AAL  2012       13.500000\n",
       "3        AAN  2012             NaN\n",
       "4       AAOI  2012             NaN"
      ]
     },
     "execution_count": 9,
     "metadata": {},
     "output_type": "execute_result"
    }
   ],
   "source": [
    "agg_last_date_df.head()"
   ]
  },
  {
   "cell_type": "code",
   "execution_count": 39,
   "id": "bbe3991b",
   "metadata": {
    "ExecuteTime": {
     "end_time": "2022-04-20T14:53:29.805327Z",
     "start_time": "2022-04-20T14:53:29.746051Z"
    }
   },
   "outputs": [
    {
     "name": "stdout",
     "output_type": "stream",
     "text": [
      "<class 'pandas.core.frame.DataFrame'>\n",
      "Int64Index: 2109 entries, 0 to 2179\n",
      "Data columns (total 3 columns):\n",
      " #   Column              Non-Null Count  Dtype  \n",
      "---  ------              --------------  -----  \n",
      " 0   stock_name          2109 non-null   object \n",
      " 1   avg_yearly_returns  2109 non-null   float64\n",
      " 2   yearly_variance     2109 non-null   float64\n",
      "dtypes: float64(2), object(1)\n",
      "memory usage: 65.9+ KB\n"
     ]
    }
   ],
   "source": [
    "# calculating yearly return and then averaging them to get average yearly returns for each stock\n",
    "agg_gains_df = (\n",
    "    agg_first_date_df\n",
    "    .merge(agg_last_date_df, on=['stock_name', 'year'], how='inner')\n",
    "    .pipe(lambda x: x.assign(gains_dollar=x.close_last_day-x.open_first_day))\n",
    "    .pipe(lambda x: x.assign(gains_pctg=x.gains_dollar/x.open_first_day))\n",
    "    .groupby(\"stock_name\")\n",
    "    .agg({\"gains_pctg\": \"mean\"})\n",
    "    .reset_index()\n",
    "    .rename(columns={\"gains_pctg\": \"avg_yearly_returns\"})\n",
    ")\n",
    "\n",
    "# calculating overall variance using each year's return\n",
    "agg_var_df = (\n",
    "    agg_first_date_df\n",
    "    .merge(agg_last_date_df, on=['stock_name', 'year'], how='inner')\n",
    "    .pipe(lambda x: x.assign(gains_dollar=x.close_last_day-x.open_first_day))\n",
    "    .pipe(lambda x: x.assign(gains_pctg=x.gains_dollar/x.open_first_day))\n",
    "    [['stock_name', 'gains_pctg']]\n",
    "    .groupby(\"stock_name\")\n",
    "    .agg(np.var)\n",
    "    .reset_index()\n",
    "    .rename(columns={\"gains_pctg\": \"yearly_variance\"})\n",
    ")\n",
    "\n",
    "agg_df3 = (\n",
    "    agg_gains_df\n",
    "    .merge(agg_var_df, on='stock_name', how='inner')\n",
    ")\n",
    "agg_df3.dropna(subset=[\"avg_yearly_returns\", \"yearly_variance\"],inplace=True)\n",
    "agg_df3.info()"
   ]
  },
  {
   "cell_type": "code",
   "execution_count": 11,
   "id": "bee9d518",
   "metadata": {
    "ExecuteTime": {
     "end_time": "2022-04-20T14:50:59.888087Z",
     "start_time": "2022-04-20T14:50:56.418735Z"
    }
   },
   "outputs": [],
   "source": [
    "from sklearn.preprocessing import RobustScaler\n",
    "from sklearn.cluster import KMeans\n",
    "from sklearn import metrics"
   ]
  },
  {
   "cell_type": "code",
   "execution_count": 12,
   "id": "f9841d32",
   "metadata": {
    "ExecuteTime": {
     "end_time": "2022-04-20T14:50:59.907441Z",
     "start_time": "2022-04-20T14:50:59.893660Z"
    }
   },
   "outputs": [],
   "source": [
    "def plot_cluster(df, max_loop=50):\n",
    "    \"\"\"\n",
    "    Looking at the performance of various number of clusters using K-Means.\n",
    "    Performance is evaluated by within cluster SSE and silhouette score.\n",
    "    \"\"\"\n",
    "    try:\n",
    "        df.drop('cluster', axis=1, inplace=True)\n",
    "    except:\n",
    "        next\n",
    "    X = df.iloc[:,1:]\n",
    "    \n",
    "    # robust scaling is used so that the centering and scaling statistics are therefore not influenced by a few number of very large marginal outliers as they are based on percentiles\n",
    "    rb = RobustScaler()\n",
    "    X_rb = rb.fit_transform(X)\n",
    "    \n",
    "    sse_within_cluster = {}\n",
    "    silhouette_score = {}\n",
    "    \n",
    "    for k in range(2, max_loop):\n",
    "        kmeans = KMeans(n_clusters=k,  random_state=10, n_init=10)\n",
    "        kmeans.fit(X_rb)\n",
    "        sse_within_cluster[k] = kmeans.inertia_\n",
    "        silhouette_score[k] = metrics.silhouette_score(X_rb, kmeans.labels_, random_state=10)\n",
    "\n",
    "    _ = plt.figure(figsize=(10,6))\n",
    "    ax1 = plt.subplot(211)\n",
    "    _ = plt.plot(list(sse_within_cluster.keys()), list(sse_within_cluster.values()))\n",
    "    _ = plt.xlabel(\"Number of Clusters\")\n",
    "    _ = plt.ylabel(\"SSE Within Cluster\")\n",
    "    _ = plt.title(\"Within Cluster SSE After K-Means Clustering\")\n",
    "    _ = plt.xticks([i for i in range(2, max_loop)], rotation=75)\n",
    "    \n",
    "    ax2 = plt.subplot(212)\n",
    "    _ = plt.plot(list(silhouette_score.keys()), list(silhouette_score.values()))\n",
    "    _ = plt.xlabel(\"Number of Clusters\")\n",
    "    _ = plt.ylabel(\"Silhouette Score\")\n",
    "    _ = plt.title(\"Silhouette Score After K-Means Clustering\")\n",
    "    _ = plt.xticks([i for i in range(2, max_loop)], rotation=75)\n",
    "    \n",
    "    plt.subplots_adjust(top=0.92, bottom=0.08, left=0.10, right=0.95, hspace=0.5, wspace=0.35)"
   ]
  },
  {
   "cell_type": "code",
   "execution_count": 13,
   "id": "efa1ce43",
   "metadata": {
    "ExecuteTime": {
     "end_time": "2022-04-20T14:51:06.440382Z",
     "start_time": "2022-04-20T14:50:59.909799Z"
    }
   },
   "outputs": [
    {
     "data": {
      "image/png": "[encoded data removed]",
      "text/plain": [
       "<Figure size 720x432 with 2 Axes>"
      ]
     },
     "metadata": {
      "needs_background": "light"
     },
     "output_type": "display_data"
    }
   ],
   "source": [
    "plot_cluster(agg_df3, max_loop=25)"
   ]
  },
  {
   "cell_type": "code",
   "execution_count": 14,
   "id": "4d473640",
   "metadata": {
    "ExecuteTime": {
     "end_time": "2022-04-20T14:51:06.445699Z",
     "start_time": "2022-04-20T14:51:06.441680Z"
    }
   },
   "outputs": [],
   "source": [
    "def apply_cluster(df, clusters=2):\n",
    "    \"\"\"\n",
    "    Applying K-Means with the optimal number of clusters identified\n",
    "    \"\"\"\n",
    "    try:\n",
    "        df.drop('cluster', axis=1, inplace=True)\n",
    "    except:\n",
    "        next\n",
    "    X = df.iloc[:,1:]\n",
    "    rb = RobustScaler()\n",
    "    X_rb = rb.fit_transform(X)\n",
    "    kmeans = KMeans(n_clusters=clusters, random_state=10, n_init=10)  \n",
    "    kmeans.fit(X_rb) \n",
    "    score = metrics.silhouette_score(X_rb, kmeans.labels_, random_state=10)\n",
    "    df['cluster'] = kmeans.labels_\n",
    "    sse_within_cluster = kmeans.inertia_\n",
    "    \n",
    "    print(\"clustering performance\")\n",
    "    print(\"-----------------------------------\")\n",
    "    print(\"silhouette score: \" + str(round(score,2)))\n",
    "    print(\"sse withing cluster: \" + str(round(sse_within_cluster)))\n",
    "    \n",
    "    return df"
   ]
  },
  {
   "cell_type": "code",
   "execution_count": 15,
   "id": "1f63bc5b",
   "metadata": {
    "ExecuteTime": {
     "end_time": "2022-04-20T14:51:06.795658Z",
     "start_time": "2022-04-20T14:51:06.446846Z"
    }
   },
   "outputs": [
    {
     "name": "stdout",
     "output_type": "stream",
     "text": [
      "clustering performance\n",
      "-----------------------------------\n",
      "silhouette score: 0.64\n",
      "sse withing cluster: 3713\n"
     ]
    }
   ],
   "source": [
    "first_trial = apply_cluster(agg_df3, clusters=14)"
   ]
  },
  {
   "cell_type": "code",
   "execution_count": 16,
   "id": "50b9d0f2",
   "metadata": {
    "ExecuteTime": {
     "end_time": "2022-04-20T14:51:06.922795Z",
     "start_time": "2022-04-20T14:51:06.798834Z"
    }
   },
   "outputs": [
    {
     "data": {
      "text/html": [
       "<div>\n",
       "<style scoped>\n",
       "    .dataframe tbody tr th:only-of-type {\n",
       "        vertical-align: middle;\n",
       "    }\n",
       "\n",
       "    .dataframe tbody tr th {\n",
       "        vertical-align: top;\n",
       "    }\n",
       "\n",
       "    .dataframe thead th {\n",
       "        text-align: right;\n",
       "    }\n",
       "</style>\n",
       "<table border=\"1\" class=\"dataframe\">\n",
       "  <thead>\n",
       "    <tr style=\"text-align: right;\">\n",
       "      <th></th>\n",
       "      <th>cluster</th>\n",
       "      <th>avg_yearly_returns</th>\n",
       "      <th>yearly_variance</th>\n",
       "      <th>stock_name</th>\n",
       "    </tr>\n",
       "  </thead>\n",
       "  <tbody>\n",
       "    <tr>\n",
       "      <th>0</th>\n",
       "      <td>0</td>\n",
       "      <td>0.103325</td>\n",
       "      <td>1.024515e-01</td>\n",
       "      <td>1780</td>\n",
       "    </tr>\n",
       "    <tr>\n",
       "      <th>1</th>\n",
       "      <td>12</td>\n",
       "      <td>0.251159</td>\n",
       "      <td>6.127502e-01</td>\n",
       "      <td>243</td>\n",
       "    </tr>\n",
       "    <tr>\n",
       "      <th>2</th>\n",
       "      <td>8</td>\n",
       "      <td>0.410152</td>\n",
       "      <td>2.027973e+00</td>\n",
       "      <td>55</td>\n",
       "    </tr>\n",
       "    <tr>\n",
       "      <th>3</th>\n",
       "      <td>10</td>\n",
       "      <td>0.819770</td>\n",
       "      <td>4.434828e+00</td>\n",
       "      <td>15</td>\n",
       "    </tr>\n",
       "    <tr>\n",
       "      <th>4</th>\n",
       "      <td>13</td>\n",
       "      <td>0.966773</td>\n",
       "      <td>9.127468e+00</td>\n",
       "      <td>4</td>\n",
       "    </tr>\n",
       "    <tr>\n",
       "      <th>5</th>\n",
       "      <td>7</td>\n",
       "      <td>1.231658</td>\n",
       "      <td>1.564718e+01</td>\n",
       "      <td>4</td>\n",
       "    </tr>\n",
       "    <tr>\n",
       "      <th>6</th>\n",
       "      <td>11</td>\n",
       "      <td>1.604588</td>\n",
       "      <td>2.617828e+01</td>\n",
       "      <td>1</td>\n",
       "    </tr>\n",
       "    <tr>\n",
       "      <th>7</th>\n",
       "      <td>6</td>\n",
       "      <td>1.764279</td>\n",
       "      <td>4.017366e+01</td>\n",
       "      <td>1</td>\n",
       "    </tr>\n",
       "    <tr>\n",
       "      <th>8</th>\n",
       "      <td>9</td>\n",
       "      <td>2.546452</td>\n",
       "      <td>6.602011e+01</td>\n",
       "      <td>1</td>\n",
       "    </tr>\n",
       "    <tr>\n",
       "      <th>9</th>\n",
       "      <td>5</td>\n",
       "      <td>5.788156</td>\n",
       "      <td>1.770676e+02</td>\n",
       "      <td>1</td>\n",
       "    </tr>\n",
       "    <tr>\n",
       "      <th>10</th>\n",
       "      <td>3</td>\n",
       "      <td>68.205099</td>\n",
       "      <td>2.339876e+04</td>\n",
       "      <td>1</td>\n",
       "    </tr>\n",
       "    <tr>\n",
       "      <th>11</th>\n",
       "      <td>4</td>\n",
       "      <td>74.357140</td>\n",
       "      <td>1.114311e+04</td>\n",
       "      <td>1</td>\n",
       "    </tr>\n",
       "    <tr>\n",
       "      <th>12</th>\n",
       "      <td>2</td>\n",
       "      <td>189.848817</td>\n",
       "      <td>1.437110e+05</td>\n",
       "      <td>1</td>\n",
       "    </tr>\n",
       "    <tr>\n",
       "      <th>13</th>\n",
       "      <td>1</td>\n",
       "      <td>532.266250</td>\n",
       "      <td>1.290934e+06</td>\n",
       "      <td>1</td>\n",
       "    </tr>\n",
       "  </tbody>\n",
       "</table>\n",
       "</div>"
      ],
      "text/plain": [
       "    cluster  avg_yearly_returns  yearly_variance  stock_name\n",
       "0         0            0.103325     1.024515e-01        1780\n",
       "1        12            0.251159     6.127502e-01         243\n",
       "2         8            0.410152     2.027973e+00          55\n",
       "3        10            0.819770     4.434828e+00          15\n",
       "4        13            0.966773     9.127468e+00           4\n",
       "5         7            1.231658     1.564718e+01           4\n",
       "6        11            1.604588     2.617828e+01           1\n",
       "7         6            1.764279     4.017366e+01           1\n",
       "8         9            2.546452     6.602011e+01           1\n",
       "9         5            5.788156     1.770676e+02           1\n",
       "10        3           68.205099     2.339876e+04           1\n",
       "11        4           74.357140     1.114311e+04           1\n",
       "12        2          189.848817     1.437110e+05           1\n",
       "13        1          532.266250     1.290934e+06           1"
      ]
     },
     "execution_count": 16,
     "metadata": {},
     "output_type": "execute_result"
    }
   ],
   "source": [
    "cluster_perf_df = (\n",
    "    first_trial\n",
    "    .groupby('cluster')\n",
    "    .agg({\"avg_yearly_returns\":\"mean\", \"yearly_variance\":\"mean\", \"stock_name\":\"count\"})\n",
    "    .sort_values('avg_yearly_returns')\n",
    "    .reset_index()\n",
    ")\n",
    "\n",
    "cluster_perf_df"
   ]
  },
  {
   "cell_type": "code",
   "execution_count": 17,
   "id": "fb0e9f8b",
   "metadata": {
    "ExecuteTime": {
     "end_time": "2022-04-20T14:51:07.004052Z",
     "start_time": "2022-04-20T14:51:06.928101Z"
    }
   },
   "outputs": [],
   "source": [
    "# creating a dataframe that only consists of cluster `0`\n",
    "agg_df3_sub = agg_df3.query(\"cluster == 0\").reset_index(drop=True)"
   ]
  },
  {
   "cell_type": "code",
   "execution_count": 18,
   "id": "fb066f8f",
   "metadata": {
    "ExecuteTime": {
     "end_time": "2022-04-20T14:51:14.368170Z",
     "start_time": "2022-04-20T14:51:07.010127Z"
    }
   },
   "outputs": [
    {
     "data": {
      "image/png": "[encoded data removed]",
      "text/plain": [
       "<Figure size 720x432 with 2 Axes>"
      ]
     },
     "metadata": {
      "needs_background": "light"
     },
     "output_type": "display_data"
    }
   ],
   "source": [
    "plot_cluster(agg_df3_sub, max_loop=25)"
   ]
  },
  {
   "cell_type": "code",
   "execution_count": 19,
   "id": "0b63da91",
   "metadata": {
    "ExecuteTime": {
     "end_time": "2022-04-20T14:51:14.562213Z",
     "start_time": "2022-04-20T14:51:14.369469Z"
    }
   },
   "outputs": [
    {
     "name": "stdout",
     "output_type": "stream",
     "text": [
      "clustering performance\n",
      "-----------------------------------\n",
      "silhouette score: 0.36\n",
      "sse withing cluster: 769\n"
     ]
    }
   ],
   "source": [
    "second_trial= apply_cluster(agg_df3_sub, clusters=5)"
   ]
  },
  {
   "cell_type": "code",
   "execution_count": 20,
   "id": "3b82166f",
   "metadata": {
    "ExecuteTime": {
     "end_time": "2022-04-20T14:51:14.582685Z",
     "start_time": "2022-04-20T14:51:14.564685Z"
    }
   },
   "outputs": [
    {
     "data": {
      "text/html": [
       "<div>\n",
       "<style scoped>\n",
       "    .dataframe tbody tr th:only-of-type {\n",
       "        vertical-align: middle;\n",
       "    }\n",
       "\n",
       "    .dataframe tbody tr th {\n",
       "        vertical-align: top;\n",
       "    }\n",
       "\n",
       "    .dataframe thead th {\n",
       "        text-align: right;\n",
       "    }\n",
       "</style>\n",
       "<table border=\"1\" class=\"dataframe\">\n",
       "  <thead>\n",
       "    <tr style=\"text-align: right;\">\n",
       "      <th></th>\n",
       "      <th>cluster</th>\n",
       "      <th>avg_yearly_returns</th>\n",
       "      <th>yearly_variance</th>\n",
       "      <th>stock_name</th>\n",
       "    </tr>\n",
       "  </thead>\n",
       "  <tbody>\n",
       "    <tr>\n",
       "      <th>0</th>\n",
       "      <td>2</td>\n",
       "      <td>-0.197303</td>\n",
       "      <td>0.134237</td>\n",
       "      <td>83</td>\n",
       "    </tr>\n",
       "    <tr>\n",
       "      <th>1</th>\n",
       "      <td>4</td>\n",
       "      <td>0.043995</td>\n",
       "      <td>0.256844</td>\n",
       "      <td>173</td>\n",
       "    </tr>\n",
       "    <tr>\n",
       "      <th>2</th>\n",
       "      <td>3</td>\n",
       "      <td>0.052865</td>\n",
       "      <td>0.057403</td>\n",
       "      <td>702</td>\n",
       "    </tr>\n",
       "    <tr>\n",
       "      <th>3</th>\n",
       "      <td>0</td>\n",
       "      <td>0.171212</td>\n",
       "      <td>0.069785</td>\n",
       "      <td>567</td>\n",
       "    </tr>\n",
       "    <tr>\n",
       "      <th>4</th>\n",
       "      <td>1</td>\n",
       "      <td>0.229393</td>\n",
       "      <td>0.184012</td>\n",
       "      <td>255</td>\n",
       "    </tr>\n",
       "  </tbody>\n",
       "</table>\n",
       "</div>"
      ],
      "text/plain": [
       "   cluster  avg_yearly_returns  yearly_variance  stock_name\n",
       "0        2           -0.197303         0.134237          83\n",
       "1        4            0.043995         0.256844         173\n",
       "2        3            0.052865         0.057403         702\n",
       "3        0            0.171212         0.069785         567\n",
       "4        1            0.229393         0.184012         255"
      ]
     },
     "execution_count": 20,
     "metadata": {},
     "output_type": "execute_result"
    }
   ],
   "source": [
    "sub_cluster_perf_df = (\n",
    "    second_trial\n",
    "    .groupby('cluster')\n",
    "    .agg({\"avg_yearly_returns\":\"mean\", \"yearly_variance\":\"mean\", \"stock_name\":\"count\"})\n",
    "    .sort_values('avg_yearly_returns')\n",
    "    .reset_index()\n",
    ")\n",
    "\n",
    "sub_cluster_perf_df"
   ]
  },
  {
   "cell_type": "code",
   "execution_count": 21,
   "id": "f3e8d497",
   "metadata": {
    "ExecuteTime": {
     "end_time": "2022-04-20T14:51:14.830383Z",
     "start_time": "2022-04-20T14:51:14.590711Z"
    }
   },
   "outputs": [],
   "source": [
    "# calculating the average risk free rate over the time period of 2012 - 2018 \n",
    "us_yield_curve_5years_dict = {\"year\": [2012, 2013, 2014, 2015, 2016, 2017, 2018],\n",
    "                         \"risk_free_rate\": [0.89, 0.76, 1.72, 1.61, 1.73, 1.94, 2.25]}\n",
    "us_yield_curve_5years_df = pd.DataFrame.from_dict(us_yield_curve_5years_dict)\n",
    "\n",
    "avg_risk_free_rate = (\n",
    "    us_yield_curve_5years_df\n",
    "    .mean()\n",
    "    [['risk_free_rate']]\n",
    "    [0]\n",
    ")"
   ]
  },
  {
   "cell_type": "code",
   "execution_count": 22,
   "id": "29832ab9",
   "metadata": {
    "ExecuteTime": {
     "end_time": "2022-04-20T14:51:14.979833Z",
     "start_time": "2022-04-20T14:51:14.836353Z"
    }
   },
   "outputs": [],
   "source": [
    "def get_sharpe_ratio_df(df):\n",
    "    \"\"\"\n",
    "    Computing Sharpe Ratio\n",
    "    \"\"\"\n",
    "    df_w_sharpe_ratio = (\n",
    "        df\n",
    "        .pipe(lambda x: x.assign(avg_risk_free_rate=avg_risk_free_rate/100))\n",
    "        .pipe(lambda x: x.assign(std_dev=np.sqrt(x.yearly_variance)))\n",
    "        .pipe(lambda x: x.assign(sharpe_ratio=(x.avg_yearly_returns-x.avg_risk_free_rate)/x.std_dev))\n",
    "    )\n",
    "\n",
    "    return df_w_sharpe_ratio"
   ]
  },
  {
   "cell_type": "code",
   "execution_count": 23,
   "id": "b58dcf97",
   "metadata": {
    "ExecuteTime": {
     "end_time": "2022-04-20T14:51:15.036982Z",
     "start_time": "2022-04-20T14:51:14.984517Z"
    }
   },
   "outputs": [],
   "source": [
    "second_trial_w_sharpe_ratio = get_sharpe_ratio_df(second_trial)"
   ]
  },
  {
   "cell_type": "code",
   "execution_count": 24,
   "id": "089da006",
   "metadata": {
    "ExecuteTime": {
     "end_time": "2022-04-20T14:51:15.079756Z",
     "start_time": "2022-04-20T14:51:15.038982Z"
    }
   },
   "outputs": [],
   "source": [
    "def get_transform_df(df_w_sharpe_ratio):\n",
    "    \"\"\"\n",
    "    Transforming dataframe so that I can plot a boxplot of `Returns`, `Variance` and `Sharpe Ratio` for each cluster\n",
    "    \"\"\"\n",
    "    df_yearly_returns = (\n",
    "        df_w_sharpe_ratio\n",
    "        [['avg_yearly_returns', 'cluster']]\n",
    "        .pipe(lambda x: x.assign(type='avg_yearly_returns'))\n",
    "        .rename(columns={\"avg_yearly_returns\": \"rate\"})\n",
    "    )\n",
    "\n",
    "    df_variance = (\n",
    "        df_w_sharpe_ratio\n",
    "        [['yearly_variance', 'cluster']]\n",
    "        .pipe(lambda x: x.assign(type='yearly_variance'))\n",
    "        .rename(columns={\"yearly_variance\": \"rate\"})\n",
    "    )\n",
    "\n",
    "    df_sharpe_ratio = (\n",
    "        df_w_sharpe_ratio\n",
    "        [['sharpe_ratio', 'cluster']]\n",
    "    )\n",
    "\n",
    "    df_transform = pd.concat([df_yearly_returns, df_variance], axis=0)\n",
    "\n",
    "    return df_transform, df_sharpe_ratio"
   ]
  },
  {
   "cell_type": "code",
   "execution_count": 25,
   "id": "8e965b62",
   "metadata": {
    "ExecuteTime": {
     "end_time": "2022-04-20T14:51:15.161107Z",
     "start_time": "2022-04-20T14:51:15.082375Z"
    }
   },
   "outputs": [],
   "source": [
    "sub_cluster_transform, sub_cluster_sharpe_ratio = get_transform_df(second_trial_w_sharpe_ratio)"
   ]
  },
  {
   "cell_type": "code",
   "execution_count": 26,
   "id": "39f031ae",
   "metadata": {
    "ExecuteTime": {
     "end_time": "2022-04-20T14:51:15.315789Z",
     "start_time": "2022-04-20T14:51:15.163215Z"
    }
   },
   "outputs": [],
   "source": [
    "def cluster_perf(transform_df, sharpe_ratio_df):\n",
    "    \"\"\"\n",
    "    Plotting boxplot of cluster performance\n",
    "    \"\"\"\n",
    "    _  = plt.figure(figsize=(15,7))\n",
    "\n",
    "    ax1 = plt.subplot(121)\n",
    "    _ = sns.boxplot(x='cluster', y='rate', hue='type', data=transform_df)\n",
    "    _ = plt.title(\"Distribution of Returns and Variance for each Cluster\")\n",
    "\n",
    "    ax2 = plt.subplot(122)\n",
    "    _ =sns.boxplot(x='cluster', y='sharpe_ratio', data=sharpe_ratio_df, color='royalblue')\n",
    "    _ = plt.title(\"Distribution of Sharpe Ratio for each Cluster\")"
   ]
  },
  {
   "cell_type": "code",
   "execution_count": 27,
   "id": "7236070f",
   "metadata": {
    "ExecuteTime": {
     "end_time": "2022-04-20T14:51:15.820531Z",
     "start_time": "2022-04-20T14:51:15.318764Z"
    }
   },
   "outputs": [
    {
     "data": {
      "image/png": "[encoded data removed]",
      "text/plain": [
       "<Figure size 1080x504 with 2 Axes>"
      ]
     },
     "metadata": {
      "needs_background": "light"
     },
     "output_type": "display_data"
    }
   ],
   "source": [
    "cluster_perf(sub_cluster_transform, sub_cluster_sharpe_ratio)"
   ]
  },
  {
   "cell_type": "code",
   "execution_count": 28,
   "id": "c6d3681d",
   "metadata": {
    "ExecuteTime": {
     "end_time": "2022-04-20T14:51:15.835405Z",
     "start_time": "2022-04-20T14:51:15.823133Z"
    }
   },
   "outputs": [
    {
     "data": {
      "text/html": [
       "<div>\n",
       "<style scoped>\n",
       "    .dataframe tbody tr th:only-of-type {\n",
       "        vertical-align: middle;\n",
       "    }\n",
       "\n",
       "    .dataframe tbody tr th {\n",
       "        vertical-align: top;\n",
       "    }\n",
       "\n",
       "    .dataframe thead th {\n",
       "        text-align: right;\n",
       "    }\n",
       "</style>\n",
       "<table border=\"1\" class=\"dataframe\">\n",
       "  <thead>\n",
       "    <tr style=\"text-align: right;\">\n",
       "      <th></th>\n",
       "      <th>cluster</th>\n",
       "      <th>avg_yearly_returns</th>\n",
       "      <th>yearly_variance</th>\n",
       "      <th>sharpe_ratio</th>\n",
       "      <th>stock_name</th>\n",
       "    </tr>\n",
       "  </thead>\n",
       "  <tbody>\n",
       "    <tr>\n",
       "      <th>0</th>\n",
       "      <td>0</td>\n",
       "      <td>0.171212</td>\n",
       "      <td>0.069785</td>\n",
       "      <td>0.649950</td>\n",
       "      <td>567</td>\n",
       "    </tr>\n",
       "    <tr>\n",
       "      <th>1</th>\n",
       "      <td>1</td>\n",
       "      <td>0.229393</td>\n",
       "      <td>0.184012</td>\n",
       "      <td>0.512349</td>\n",
       "      <td>255</td>\n",
       "    </tr>\n",
       "    <tr>\n",
       "      <th>2</th>\n",
       "      <td>2</td>\n",
       "      <td>-0.197303</td>\n",
       "      <td>0.134237</td>\n",
       "      <td>-1.018524</td>\n",
       "      <td>83</td>\n",
       "    </tr>\n",
       "    <tr>\n",
       "      <th>3</th>\n",
       "      <td>3</td>\n",
       "      <td>0.052865</td>\n",
       "      <td>0.057403</td>\n",
       "      <td>NaN</td>\n",
       "      <td>702</td>\n",
       "    </tr>\n",
       "    <tr>\n",
       "      <th>4</th>\n",
       "      <td>4</td>\n",
       "      <td>0.043995</td>\n",
       "      <td>0.256844</td>\n",
       "      <td>0.056301</td>\n",
       "      <td>173</td>\n",
       "    </tr>\n",
       "  </tbody>\n",
       "</table>\n",
       "</div>"
      ],
      "text/plain": [
       "   cluster  avg_yearly_returns  yearly_variance  sharpe_ratio  stock_name\n",
       "0        0            0.171212         0.069785      0.649950         567\n",
       "1        1            0.229393         0.184012      0.512349         255\n",
       "2        2           -0.197303         0.134237     -1.018524          83\n",
       "3        3            0.052865         0.057403           NaN         702\n",
       "4        4            0.043995         0.256844      0.056301         173"
      ]
     },
     "execution_count": 28,
     "metadata": {},
     "output_type": "execute_result"
    }
   ],
   "source": [
    "(\n",
    "    second_trial_w_sharpe_ratio\n",
    "    .groupby(\"cluster\")\n",
    "    .agg({\"avg_yearly_returns\": \"mean\", \"yearly_variance\": \"mean\", \"sharpe_ratio\": \"mean\", \"stock_name\": \"count\"})\n",
    "    .reset_index()\n",
    ")"
   ]
  },
  {
   "cell_type": "code",
   "execution_count": 29,
   "id": "295f00ec",
   "metadata": {
    "ExecuteTime": {
     "end_time": "2022-04-20T14:51:15.896982Z",
     "start_time": "2022-04-20T14:51:15.837314Z"
    }
   },
   "outputs": [],
   "source": [
    "# filtering out for cluster 1\n",
    "best_sub_cluster = second_trial.query(\"cluster == 2\")"
   ]
  },
  {
   "cell_type": "code",
   "execution_count": 30,
   "id": "490d2bec",
   "metadata": {
    "ExecuteTime": {
     "end_time": "2022-04-20T14:51:17.388172Z",
     "start_time": "2022-04-20T14:51:15.899042Z"
    }
   },
   "outputs": [
    {
     "name": "stderr",
     "output_type": "stream",
     "text": [
      "/tmp/ipykernel_35055/3546962165.py:7: SettingWithCopyWarning: \n",
      "A value is trying to be set on a copy of a slice from a DataFrame\n",
      "\n",
      "See the caveats in the documentation: https://pandas.pydata.org/pandas-docs/stable/user_guide/indexing.html#returning-a-view-versus-a-copy\n",
      "  df.drop('cluster', axis=1, inplace=True)\n"
     ]
    },
    {
     "data": {
      "image/png": "[encoded data removed]",
      "text/plain": [
       "<Figure size 720x432 with 2 Axes>"
      ]
     },
     "metadata": {
      "needs_background": "light"
     },
     "output_type": "display_data"
    }
   ],
   "source": [
    "plot_cluster(best_sub_cluster, max_loop=15)"
   ]
  },
  {
   "cell_type": "code",
   "execution_count": 31,
   "id": "309fc6b6",
   "metadata": {
    "ExecuteTime": {
     "end_time": "2022-04-20T14:51:17.465794Z",
     "start_time": "2022-04-20T14:51:17.389715Z"
    }
   },
   "outputs": [
    {
     "name": "stdout",
     "output_type": "stream",
     "text": [
      "clustering performance\n",
      "-----------------------------------\n",
      "silhouette score: 0.36\n",
      "sse withing cluster: 22\n"
     ]
    },
    {
     "name": "stderr",
     "output_type": "stream",
     "text": [
      "/tmp/ipykernel_35055/2824978611.py:15: SettingWithCopyWarning: \n",
      "A value is trying to be set on a copy of a slice from a DataFrame.\n",
      "Try using .loc[row_indexer,col_indexer] = value instead\n",
      "\n",
      "See the caveats in the documentation: https://pandas.pydata.org/pandas-docs/stable/user_guide/indexing.html#returning-a-view-versus-a-copy\n",
      "  df['cluster'] = kmeans.labels_\n"
     ]
    }
   ],
   "source": [
    "third_trial = apply_cluster(best_sub_cluster, clusters=6)"
   ]
  },
  {
   "cell_type": "code",
   "execution_count": 32,
   "id": "71d57611",
   "metadata": {
    "ExecuteTime": {
     "end_time": "2022-04-20T14:51:17.758343Z",
     "start_time": "2022-04-20T14:51:17.467417Z"
    }
   },
   "outputs": [
    {
     "data": {
      "text/html": [
       "<div>\n",
       "<style scoped>\n",
       "    .dataframe tbody tr th:only-of-type {\n",
       "        vertical-align: middle;\n",
       "    }\n",
       "\n",
       "    .dataframe tbody tr th {\n",
       "        vertical-align: top;\n",
       "    }\n",
       "\n",
       "    .dataframe thead th {\n",
       "        text-align: right;\n",
       "    }\n",
       "</style>\n",
       "<table border=\"1\" class=\"dataframe\">\n",
       "  <thead>\n",
       "    <tr style=\"text-align: right;\">\n",
       "      <th></th>\n",
       "      <th>cluster</th>\n",
       "      <th>avg_yearly_returns</th>\n",
       "      <th>yearly_variance</th>\n",
       "      <th>stock_name</th>\n",
       "    </tr>\n",
       "  </thead>\n",
       "  <tbody>\n",
       "    <tr>\n",
       "      <th>0</th>\n",
       "      <td>5</td>\n",
       "      <td>-0.548696</td>\n",
       "      <td>0.095198</td>\n",
       "      <td>4</td>\n",
       "    </tr>\n",
       "    <tr>\n",
       "      <th>1</th>\n",
       "      <td>0</td>\n",
       "      <td>-0.387715</td>\n",
       "      <td>0.381419</td>\n",
       "      <td>3</td>\n",
       "    </tr>\n",
       "    <tr>\n",
       "      <th>2</th>\n",
       "      <td>3</td>\n",
       "      <td>-0.348595</td>\n",
       "      <td>0.039302</td>\n",
       "      <td>8</td>\n",
       "    </tr>\n",
       "    <tr>\n",
       "      <th>3</th>\n",
       "      <td>4</td>\n",
       "      <td>-0.206199</td>\n",
       "      <td>0.215833</td>\n",
       "      <td>19</td>\n",
       "    </tr>\n",
       "    <tr>\n",
       "      <th>4</th>\n",
       "      <td>1</td>\n",
       "      <td>-0.167330</td>\n",
       "      <td>0.071535</td>\n",
       "      <td>22</td>\n",
       "    </tr>\n",
       "    <tr>\n",
       "      <th>5</th>\n",
       "      <td>2</td>\n",
       "      <td>-0.097422</td>\n",
       "      <td>0.134357</td>\n",
       "      <td>27</td>\n",
       "    </tr>\n",
       "  </tbody>\n",
       "</table>\n",
       "</div>"
      ],
      "text/plain": [
       "   cluster  avg_yearly_returns  yearly_variance  stock_name\n",
       "0        5           -0.548696         0.095198           4\n",
       "1        0           -0.387715         0.381419           3\n",
       "2        3           -0.348595         0.039302           8\n",
       "3        4           -0.206199         0.215833          19\n",
       "4        1           -0.167330         0.071535          22\n",
       "5        2           -0.097422         0.134357          27"
      ]
     },
     "execution_count": 32,
     "metadata": {},
     "output_type": "execute_result"
    }
   ],
   "source": [
    "best_sub_cluster_perf = (    \n",
    "    third_trial\n",
    "    .groupby('cluster')\n",
    "    .agg({\"avg_yearly_returns\":\"mean\", \"yearly_variance\":\"mean\", \"stock_name\":\"count\"})\n",
    "    .sort_values('avg_yearly_returns')\n",
    "    .reset_index()\n",
    ")\n",
    "best_sub_cluster_perf"
   ]
  },
  {
   "cell_type": "code",
   "execution_count": 33,
   "id": "c6bdfe4d",
   "metadata": {
    "ExecuteTime": {
     "end_time": "2022-04-20T14:51:17.965282Z",
     "start_time": "2022-04-20T14:51:17.763054Z"
    }
   },
   "outputs": [],
   "source": [
    "third_trial_w_sharpe_ratio = get_sharpe_ratio_df(third_trial)"
   ]
  },
  {
   "cell_type": "code",
   "execution_count": 34,
   "id": "712ed1fb",
   "metadata": {
    "ExecuteTime": {
     "end_time": "2022-04-20T14:51:18.609015Z",
     "start_time": "2022-04-20T14:51:17.970665Z"
    }
   },
   "outputs": [],
   "source": [
    "best_sub_cluster_transform, best_sub_cluster_sharpe_ratio = get_transform_df(third_trial_w_sharpe_ratio)"
   ]
  },
  {
   "cell_type": "code",
   "execution_count": 35,
   "id": "f5f40ba3",
   "metadata": {
    "ExecuteTime": {
     "end_time": "2022-04-20T14:51:19.338953Z",
     "start_time": "2022-04-20T14:51:18.614412Z"
    }
   },
   "outputs": [
    {
     "data": {
      "image/png": "[encoded data removed]",
      "text/plain": [
       "<Figure size 1080x504 with 2 Axes>"
      ]
     },
     "metadata": {
      "needs_background": "light"
     },
     "output_type": "display_data"
    }
   ],
   "source": [
    "cluster_perf(best_sub_cluster_transform, best_sub_cluster_sharpe_ratio)"
   ]
  },
  {
   "cell_type": "code",
   "execution_count": 36,
   "id": "22857a91",
   "metadata": {
    "ExecuteTime": {
     "end_time": "2022-04-20T14:51:19.349921Z",
     "start_time": "2022-04-20T14:51:19.340343Z"
    }
   },
   "outputs": [
    {
     "data": {
      "text/html": [
       "<div>\n",
       "<style scoped>\n",
       "    .dataframe tbody tr th:only-of-type {\n",
       "        vertical-align: middle;\n",
       "    }\n",
       "\n",
       "    .dataframe tbody tr th {\n",
       "        vertical-align: top;\n",
       "    }\n",
       "\n",
       "    .dataframe thead th {\n",
       "        text-align: right;\n",
       "    }\n",
       "</style>\n",
       "<table border=\"1\" class=\"dataframe\">\n",
       "  <thead>\n",
       "    <tr style=\"text-align: right;\">\n",
       "      <th></th>\n",
       "      <th>cluster</th>\n",
       "      <th>avg_yearly_returns</th>\n",
       "      <th>yearly_variance</th>\n",
       "      <th>sharpe_ratio</th>\n",
       "      <th>stock_name</th>\n",
       "    </tr>\n",
       "  </thead>\n",
       "  <tbody>\n",
       "    <tr>\n",
       "      <th>0</th>\n",
       "      <td>0</td>\n",
       "      <td>-0.387715</td>\n",
       "      <td>0.381419</td>\n",
       "      <td>-0.656948</td>\n",
       "      <td>3</td>\n",
       "    </tr>\n",
       "    <tr>\n",
       "      <th>1</th>\n",
       "      <td>1</td>\n",
       "      <td>-0.167330</td>\n",
       "      <td>0.071535</td>\n",
       "      <td>-0.991596</td>\n",
       "      <td>22</td>\n",
       "    </tr>\n",
       "    <tr>\n",
       "      <th>2</th>\n",
       "      <td>2</td>\n",
       "      <td>-0.097422</td>\n",
       "      <td>0.134357</td>\n",
       "      <td>-0.314579</td>\n",
       "      <td>27</td>\n",
       "    </tr>\n",
       "    <tr>\n",
       "      <th>3</th>\n",
       "      <td>3</td>\n",
       "      <td>-0.348595</td>\n",
       "      <td>0.039302</td>\n",
       "      <td>-4.282739</td>\n",
       "      <td>8</td>\n",
       "    </tr>\n",
       "    <tr>\n",
       "      <th>4</th>\n",
       "      <td>4</td>\n",
       "      <td>-0.206199</td>\n",
       "      <td>0.215833</td>\n",
       "      <td>-0.486509</td>\n",
       "      <td>19</td>\n",
       "    </tr>\n",
       "    <tr>\n",
       "      <th>5</th>\n",
       "      <td>5</td>\n",
       "      <td>-0.548696</td>\n",
       "      <td>0.095198</td>\n",
       "      <td>-2.188077</td>\n",
       "      <td>4</td>\n",
       "    </tr>\n",
       "  </tbody>\n",
       "</table>\n",
       "</div>"
      ],
      "text/plain": [
       "   cluster  avg_yearly_returns  yearly_variance  sharpe_ratio  stock_name\n",
       "0        0           -0.387715         0.381419     -0.656948           3\n",
       "1        1           -0.167330         0.071535     -0.991596          22\n",
       "2        2           -0.097422         0.134357     -0.314579          27\n",
       "3        3           -0.348595         0.039302     -4.282739           8\n",
       "4        4           -0.206199         0.215833     -0.486509          19\n",
       "5        5           -0.548696         0.095198     -2.188077           4"
      ]
     },
     "execution_count": 36,
     "metadata": {},
     "output_type": "execute_result"
    }
   ],
   "source": [
    "(\n",
    "    third_trial_w_sharpe_ratio\n",
    "    .groupby('cluster')\n",
    "    .agg({\"avg_yearly_returns\": \"mean\", \"yearly_variance\": \"mean\", \"sharpe_ratio\": \"mean\", \"stock_name\": \"count\"})\n",
    "    .reset_index()\n",
    ")"
   ]
  },
  {
   "cell_type": "code",
   "execution_count": 37,
   "id": "1af566b3",
   "metadata": {
    "ExecuteTime": {
     "end_time": "2022-04-20T14:51:19.584526Z",
     "start_time": "2022-04-20T14:51:19.351405Z"
    }
   },
   "outputs": [
    {
     "data": {
      "text/plain": [
       "array(['AMTD', 'DCT', 'DYN', 'GNCA', 'OPEN', 'RKT', 'SALE', 'SWSH'],\n",
       "      dtype=object)"
      ]
     },
     "execution_count": 37,
     "metadata": {},
     "output_type": "execute_result"
    }
   ],
   "source": [
    "third_trial.query(\"cluster == 3\").stock_name.unique()"
   ]
  },
  {
   "cell_type": "code",
   "execution_count": null,
   "id": "451d8c84",
   "metadata": {},
   "outputs": [],
   "source": []
  }
 ],
 "metadata": {
  "kernelspec": {
   "display_name": "Python 3 (ipykernel)",
   "language": "python",
   "name": "python3"
  },
  "language_info": {
   "codemirror_mode": {
    "name": "ipython",
    "version": 3
   },
   "file_extension": ".py",
   "mimetype": "text/x-python",
   "name": "python",
   "nbconvert_exporter": "python",
   "pygments_lexer": "ipython3",
   "version": "3.8.10"
  },
  "latex_envs": {
   "LaTeX_envs_menu_present": true,
   "autoclose": true,
   "autocomplete": true,
   "bibliofile": "biblio.bib",
   "cite_by": "apalike",
   "current_citInitial": 1,
   "eqLabelWithNumbers": true,
   "eqNumInitial": 1,
   "hotkeys": {
    "equation": "Ctrl-E",
    "itemize": "Ctrl-I"
   },
   "labels_anchors": false,
   "latex_user_defs": false,
   "report_style_numbering": false,
   "user_envs_cfg": false
  }
 },
 "nbformat": 4,
 "nbformat_minor": 5
}
